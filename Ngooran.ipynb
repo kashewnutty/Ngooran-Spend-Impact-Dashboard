{
 "cells": [
  {
   "cell_type": "code",
   "execution_count": 2,
   "id": "9a651aba-c679-4f0b-ab87-b8490a364e52",
   "metadata": {},
   "outputs": [],
   "source": [
    "import pandas as pd"
   ]
  },
  {
   "cell_type": "code",
   "execution_count": 3,
   "id": "5157a65b-1753-4047-9a57-df4157cd3404",
   "metadata": {},
   "outputs": [],
   "source": [
    "# Load the Excel file\n",
    "file_path = 'Ngooran Spend Impact MockUp.xlsx'\n",
    "excel_data = pd.ExcelFile(file_path)"
   ]
  },
  {
   "cell_type": "code",
   "execution_count": 13,
   "id": "c962e062-17ec-4c0b-8f5b-3c6a0fff90fb",
   "metadata": {},
   "outputs": [
    {
     "data": {
      "application/vnd.jupyter.widget-view+json": {
       "model_id": "c0675508bde04a6884b5ce4a25a120c0",
       "version_major": 2,
       "version_minor": 0
      },
      "text/plain": [
       "HTML(value=\"<h2 style='color: #333; font-family: Arial;'>Spend Impact Dashboard by Package</h2>\")"
      ]
     },
     "metadata": {},
     "output_type": "display_data"
    },
    {
     "data": {
      "application/vnd.jupyter.widget-view+json": {
       "model_id": "35dfe3eec55b4dd2b5323d9bcb7f47ac",
       "version_major": 2,
       "version_minor": 0
      },
      "text/plain": [
       "VBox(children=(HBox(children=(VBox(children=(HTML(value=\"<h3 style='color: #4CAF50;'>Package One </h3>\"), Floa…"
      ]
     },
     "metadata": {},
     "output_type": "display_data"
    }
   ],
   "source": [
    "import ipywidgets as widgets\n",
    "from IPython.display import display, HTML\n",
    "\n",
    "# Base values from the \"Packages_Summary\" sheet\n",
    "package_values = {\n",
    "    'Package One': 150_000_000,\n",
    "    'Package Two': 500_000_000,\n",
    "    'Package Three': 300_000_000,\n",
    "    'Package Four': 150_000_000\n",
    "}\n",
    "\n",
    "# Function to calculate impact and total spend for each package\n",
    "def calculate_package_impact(package_name, mob_spend, high_impact, medium_impact, low_impact):\n",
    "    base_value = package_values[package_name.strip()]  # Get the base value for the package\n",
    "    total_value_spend = mob_spend * base_value  # Calculate Mob Spend based on the base value\n",
    "    impact_value = high_impact * 1.5 + medium_impact * 1.0 + low_impact * 0.5  # Weighted impact\n",
    "    return total_value_spend, impact_value\n",
    "\n",
    "# Create sliders for each package with themed colours and layout\n",
    "def create_package_section(package_name, color):\n",
    "    sliders = {\n",
    "        'mob_spend_slider': widgets.FloatSlider(value=0.2, min=0, max=1.0, step=0.01, \n",
    "                                                description='% Mob Spend', style={'description_width': '120px'}),\n",
    "        'high_impact_slider': widgets.FloatSlider(value=0.2, min=0, max=1.0, step=0.01, \n",
    "                                                  description='% High Impact', style={'description_width': '120px'}),\n",
    "        'medium_impact_slider': widgets.FloatSlider(value=0.5, min=0, max=1.0, step=0.01, \n",
    "                                                    description='% Medium Impact', style={'description_width': '120px'}),\n",
    "        'low_impact_slider': widgets.FloatSlider(value=0.3, min=0, max=1.0, step=0.01, \n",
    "                                                 description='% Low Impact', style={'description_width': '120px'})\n",
    "    }\n",
    "    \n",
    "    # Output widget to display results with package-specific background colour\n",
    "    package_output = widgets.Output()\n",
    "    \n",
    "    def update_package_output(change=None):\n",
    "        with package_output:\n",
    "            package_output.clear_output()\n",
    "            total_value_spend, impact_value = calculate_package_impact(\n",
    "                package_name,\n",
    "                sliders['mob_spend_slider'].value,\n",
    "                sliders['high_impact_slider'].value,\n",
    "                sliders['medium_impact_slider'].value,\n",
    "                sliders['low_impact_slider'].value\n",
    "            )\n",
    "            # Display results with custom HTML for package-themed appearance\n",
    "            display(HTML(f\"\"\"\n",
    "            <div style=\"background-color: {color}; padding: 10px; border-radius: 8px; color: white; font-size: 16px;\">\n",
    "                <b>{package_name} - Total Value Spend:</b> ${total_value_spend:,.2f} <br>\n",
    "                <b>{package_name} - Impact Value:</b> {impact_value:.2f}\n",
    "            </div>\n",
    "            \"\"\"))\n",
    "    \n",
    "    # Observe slider changes for each package\n",
    "    for slider in sliders.values():\n",
    "        slider.observe(update_package_output, names='value')\n",
    "    \n",
    "    # Initial output update\n",
    "    update_package_output()\n",
    "    \n",
    "    # Layout for sliders and output together in a themed section\n",
    "    package_layout = widgets.VBox([\n",
    "        widgets.HTML(f\"<h3 style='color: {color};'>{package_name}</h3>\"),\n",
    "        sliders['mob_spend_slider'],\n",
    "        sliders['high_impact_slider'],\n",
    "        sliders['medium_impact_slider'],\n",
    "        sliders['low_impact_slider'],\n",
    "        package_output\n",
    "    ], layout=widgets.Layout(padding='10px', border=f'solid 2px {color}', border_radius='8px'))\n",
    "    \n",
    "    return package_layout\n",
    "\n",
    "# Initialize package sections with different colours\n",
    "package1 = create_package_section('Package One ', '#4CAF50')\n",
    "package2 = create_package_section('Package Two', '#2196F3')\n",
    "package3 = create_package_section('Package Three', '#FF9800')\n",
    "package4 = create_package_section('Package Four', '#9C27B0')\n",
    "\n",
    "# Arrange packages in a 2x2 grid using HBox and VBox\n",
    "row1 = widgets.HBox([package1, package2], layout=widgets.Layout(justify_content='space-between'))\n",
    "row2 = widgets.HBox([package3, package4], layout=widgets.Layout(justify_content='space-between'))\n",
    "grid_layout = widgets.VBox([row1, row2])\n",
    "\n",
    "# Display the dashboard with overall layout\n",
    "display(widgets.HTML(\"<h2 style='color: #333; font-family: Arial;'>Spend Impact Dashboard by Package</h2>\"), grid_layout)\n"
   ]
  },
  {
   "cell_type": "code",
   "execution_count": null,
   "id": "66dff3e5-98ad-4da3-a3cf-26565d833747",
   "metadata": {},
   "outputs": [],
   "source": []
  }
 ],
 "metadata": {
  "kernelspec": {
   "display_name": "Python 3 (ipykernel)",
   "language": "python",
   "name": "python3"
  },
  "language_info": {
   "codemirror_mode": {
    "name": "ipython",
    "version": 3
   },
   "file_extension": ".py",
   "mimetype": "text/x-python",
   "name": "python",
   "nbconvert_exporter": "python",
   "pygments_lexer": "ipython3",
   "version": "3.11.10"
  }
 },
 "nbformat": 4,
 "nbformat_minor": 5
}
